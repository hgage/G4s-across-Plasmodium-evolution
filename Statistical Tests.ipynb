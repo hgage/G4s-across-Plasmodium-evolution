{
 "cells": [
  {
   "cell_type": "code",
   "execution_count": 1,
   "metadata": {},
   "outputs": [],
   "source": [
    "#import some useful libraries\n",
    "\n",
    "import pandas as pd\n",
    "from pandas import Series, DataFrame\n",
    "import numpy as np\n",
    "from scipy import stats\n",
    "import collections\n",
    "import itertools\n",
    "from collections import defaultdict\n",
    "%matplotlib inline\n",
    "import matplotlib\n",
    "import matplotlib.pyplot as plt\n",
    "import seaborn as sns\n",
    "from matplotlib.backends.backend_pdf import PdfPages\n",
    "import os"
   ]
  },
  {
   "cell_type": "code",
   "execution_count": 2,
   "metadata": {},
   "outputs": [
    {
     "name": "stdout",
     "output_type": "stream",
     "text": [
      "QGRS Mapper result:  Ttest_indResult(statistic=6.033618353187913, pvalue=0.002465862542734945)\n",
      "G4 Hunter result:  Ttest_indResult(statistic=2.632672774820208, pvalue=0.04663719324494356)\n"
     ]
    }
   ],
   "source": [
    "#Welch's t-test for total number of PQSs, comparing clade A and clade B Laverania\n",
    "\n",
    "#For QGRS Mapper data\n",
    "print(\"QGRS Mapper result: \", stats.ttest_ind([66,75,83,108,109], [31,36], equal_var=False))\n",
    "\n",
    "#For G4 Hunter data\n",
    "print(\"G4 Hunter result: \", stats.ttest_ind([96,179,310,261,213], [90, 123], equal_var=False))"
   ]
  },
  {
   "cell_type": "code",
   "execution_count": 3,
   "metadata": {},
   "outputs": [
    {
     "name": "stdout",
     "output_type": "stream",
     "text": [
      "QGRS Mapper result:  Ttest_indResult(statistic=-1.4903014617910182, pvalue=0.16227263417260107)\n",
      "G4 Hunter restult:  Ttest_indResult(statistic=-0.03108689777645753, pvalue=0.9757114212110178)\n"
     ]
    }
   ],
   "source": [
    "#Welch's t-test for antisense v. sense bias for Laveranian species\n",
    "\n",
    "#For QGRS Mapper data\n",
    "print(\"QGRS Mapper result: \", stats.ttest_ind([40.54054054,45.16129032,41.42857143,53.33333333,52.87356322,53.15315315,33.91304348],\n",
    "               [58.33333333,54.83870968,62.12121212,46.66666667,46.98795181,46.84684685,44.95412844], equal_var=False))\n",
    "\n",
    "#For G4 Hunter data\n",
    "print(\"G4 Hunter restult: \", stats.ttest_ind([45.52845528,62.22222222,45.83333333,50.27932961,63.78205128,40.99616858,40.0862069],\n",
    "                [54.47154472,37.77777778,54.16666667,49.72067039,36.01286174,59.00383142,58.68544601], equal_var=False))"
   ]
  },
  {
   "cell_type": "code",
   "execution_count": 4,
   "metadata": {},
   "outputs": [
    {
     "name": "stdout",
     "output_type": "stream",
     "text": [
      "QGRS Mapper result:  Ttest_indResult(statistic=1.4696838601619542, pvalue=0.16737258502892208)\n",
      "G4 Hunter result:  Ttest_indResult(statistic=-1.3168224330807983, pvalue=0.21249218825098448)\n"
     ]
    }
   ],
   "source": [
    "#Welch's t-test for antisense v. sense bias within var-PQS v. total-PQS for Laveranian speices\n",
    "\n",
    "#For QGRS Mapper data\n",
    "print(\"QGRS Mapper result: \", stats.ttest_ind([53.33333333,70,66.66666667,55.55555556,34.28571429,50,52.38095238], \n",
    "                                              [46.66666667,30,33.33333333,44.44444444,65.71428571,50,47.61904762], equal_var=False))\n",
    "\n",
    "#For G4 Hunter data\n",
    "print(\"G4 Hunter result: \", stats.ttest_ind([60.37735849,36.11111111,50,50.72463768,24.04371585,45.2991453,53.57142857],\n",
    "                                           [39.62264151,63.88888889,50,49.27536232,75.95628415,54.7008547,46.42857143], equal_var=False))"
   ]
  },
  {
   "cell_type": "code",
   "execution_count": 5,
   "metadata": {},
   "outputs": [
    {
     "name": "stdout",
     "output_type": "stream",
     "text": [
      "QGRS Mapper result:  Ttest_indResult(statistic=11.802899637287355, pvalue=5.814675153288501e-08)\n",
      "G4 Hunter result:  Ttest_indResult(statistic=4.431706748687627, pvalue=0.0008186404519961782)\n"
     ]
    }
   ],
   "source": [
    "#Welch's t-test for same v. opposite bias within coding-var-PQSs v. total-coding-var-PQSs for Laveranian species\n",
    "\n",
    "#For QGRS Mapper data\n",
    "d = [80.76923077,80,61.53846154,88.57142857,75,88.57142857,78.78787879]\n",
    "l = []\n",
    "for item in d:\n",
    "    l.append(100-item)\n",
    "print(\"QGRS Mapper result: \", stats.ttest_ind(np.array(d), np.array(l), equal_var=False))\n",
    "\n",
    "#For G4 Hunter data\n",
    "d = [80.72289157,45.45454545,83.33333333,46.66666667,73.91304348,91.66666667,93.33333333]\n",
    "l = []\n",
    "for item in d:\n",
    "    l.append(100-item)\n",
    "print(\"G4 Hunter result: \", stats.ttest_ind(np.array(d), np.array(l), equal_var=False))\n"
   ]
  },
  {
   "cell_type": "code",
   "execution_count": 6,
   "metadata": {},
   "outputs": [
    {
     "name": "stdout",
     "output_type": "stream",
     "text": [
      "QGRS Mapper result:  Ttest_indResult(statistic=3.915110373215352, pvalue=0.007178467264045923)\n",
      "G4 Hunter result:  Ttest_indResult(statistic=4.349637325854169, pvalue=0.003546491732013337)\n"
     ]
    }
   ],
   "source": [
    "#Welch's t-test comparing total number of (non-telomeric) PQSs between Laveranian and avian parasites\n",
    "\n",
    "#For QGRS Mapper data\n",
    "print(\"QGRS Mapper result: \", stats.ttest_ind([36, 31, 66, 75, 83, 108, 109],\n",
    "                                              [12, 26], equal_var=False))\n",
    "\n",
    "#For G4 Hunter data\n",
    "print(\"G4 Hunter result: \", stats.ttest_ind([123, 90, 96, 179, 310, 261, 213], \n",
    "                                            [46, 26], equal_var=False))"
   ]
  },
  {
   "cell_type": "code",
   "execution_count": null,
   "metadata": {},
   "outputs": [],
   "source": []
  }
 ],
 "metadata": {
  "kernelspec": {
   "display_name": "Python 3",
   "language": "python",
   "name": "python3"
  },
  "language_info": {
   "codemirror_mode": {
    "name": "ipython",
    "version": 3
   },
   "file_extension": ".py",
   "mimetype": "text/x-python",
   "name": "python",
   "nbconvert_exporter": "python",
   "pygments_lexer": "ipython3",
   "version": "3.6.5"
  }
 },
 "nbformat": 4,
 "nbformat_minor": 2
}
